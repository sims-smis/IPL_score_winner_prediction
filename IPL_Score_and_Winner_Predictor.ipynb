{
  "nbformat": 4,
  "nbformat_minor": 0,
  "metadata": {
    "colab": {
      "provenance": [],
      "authorship_tag": "ABX9TyMF0oiBGwVBSJIbnIEGKfPW",
      "include_colab_link": true
    },
    "kernelspec": {
      "name": "python3",
      "display_name": "Python 3"
    },
    "language_info": {
      "name": "python"
    }
  },
  "cells": [
    {
      "cell_type": "markdown",
      "metadata": {
        "id": "view-in-github",
        "colab_type": "text"
      },
      "source": [
        "<a href=\"https://colab.research.google.com/github/sims-smis/IPL_score_winner_prediction/blob/main/IPL_Score_and_Winner_Predictor.ipynb\" target=\"_parent\"><img src=\"https://colab.research.google.com/assets/colab-badge.svg\" alt=\"Open In Colab\"/></a>"
      ]
    },
    {
      "cell_type": "code",
      "execution_count": 1,
      "metadata": {
        "id": "714x_kOmS5WF"
      },
      "outputs": [],
      "source": [
        "import pandas as pd\n",
        "import numpy as np"
      ]
    },
    {
      "cell_type": "code",
      "source": [
        "ipl_df = pd.read_csv('ipl_data.csv')\n",
        "print(f\"Dataset successfully Imported of Shape : {ipl_df.shape}\")"
      ],
      "metadata": {
        "id": "d9YJ0H-OTkUX"
      },
      "execution_count": 4,
      "outputs": []
    },
    {
      "cell_type": "code",
      "source": [
        "ipl_df.head()"
      ],
      "metadata": {
        "id": "-yjPSBmOTpLQ"
      },
      "execution_count": 5,
      "outputs": []
    },
    {
      "cell_type": "code",
      "source": [
        "ipl_df.describe()"
      ],
      "metadata": {
        "id": "0ubQSIELTuE0"
      },
      "execution_count": 6,
      "outputs": []
    },
    {
      "cell_type": "code",
      "source": [
        "ipl_df.info()"
      ],
      "metadata": {
        "id": "spI3-m8rTxG1"
      },
      "execution_count": 7,
      "outputs": []
    },
    {
      "cell_type": "code",
      "source": [
        "ipl_df.nunique()"
      ],
      "metadata": {
        "id": "rX2h8IjGTzNO"
      },
      "execution_count": 8,
      "outputs": []
    },
    {
      "cell_type": "code",
      "source": [
        "#Wickets Distribution\n",
        "sns.displot(ipl_df['wickets'],kde=False,bins=10)\n",
        "plt.title(\"Wickets Distribution\")\n",
        "\n",
        "plt.show()"
      ],
      "metadata": {
        "id": "r1YrfTLET2f8"
      },
      "execution_count": 10,
      "outputs": []
    },
    {
      "cell_type": "code",
      "source": [
        "#Runs Distribution\n",
        "sns.displot(ipl_df['total'],kde=False,bins=10)\n",
        "plt.title(\"Runs Distribution\")\n",
        "\n",
        "plt.show()"
      ],
      "metadata": {
        "id": "VAikbNwnT4i4"
      },
      "execution_count": 11,
      "outputs": []
    },
    {
      "cell_type": "code",
      "source": [
        "ipl_df.columns"
      ],
      "metadata": {
        "id": "aSqbHttST7zP"
      },
      "execution_count": 12,
      "outputs": []
    },
    {
      "cell_type": "code",
      "source": [
        "irrelevant = ['mid', 'date', 'venue','batsman', 'bowler', 'striker', 'non-striker']\n",
        "print(f'Before Removing Irrelevant Columns : {ipl_df.shape}')\n",
        "ipl_df = ipl_df.drop(irrelevant, axis=1) # Drop Irrelevant Columns\n",
        "print(f'After Removing Irrelevant Columns : {ipl_df.shape}')\n",
        "ipl_df.head()"
      ],
      "metadata": {
        "id": "jYwDn-zRT9rk"
      },
      "execution_count": 13,
      "outputs": []
    },
    {
      "cell_type": "code",
      "source": [
        "const_teams = ['Kolkata Knight Riders', 'Chennai Super Kings', 'Rajasthan Royals',\n",
        "              'Mumbai Indians', 'Kings XI Punjab', 'Royal Challengers Bangalore',\n",
        "              'Delhi Daredevils', 'Sunrisers Hyderabad']"
      ],
      "metadata": {
        "id": "Ps6sXJGqUBv9"
      },
      "execution_count": 14,
      "outputs": []
    },
    {
      "cell_type": "code",
      "source": [
        "print(f'Before Removing Inconsistent Teams : {ipl_df.shape}')\n",
        "ipl_df = ipl_df[(ipl_df['bat_team'].isin(const_teams)) & (ipl_df['bowl_team'].isin(const_teams))]\n",
        "print(f'After Removing Irrelevant Columns : {ipl_df.shape}')\n",
        "print(f\"Consistent Teams : \\n{ipl_df['bat_team'].unique()}\")\n",
        "ipl_df.head()"
      ],
      "metadata": {
        "id": "Lht3Dm9dUDsN"
      },
      "execution_count": 15,
      "outputs": []
    },
    {
      "cell_type": "code",
      "source": [
        "print(f'Before Removing Overs : {ipl_df.shape}')\n",
        "ipl_df = ipl_df[ipl_df['overs'] >= 5.0]\n",
        "print(f'After Removing Overs : {ipl_df.shape}')\n",
        "ipl_df.head()"
      ],
      "metadata": {
        "id": "6SmZEJZCUF-U"
      },
      "execution_count": 16,
      "outputs": []
    },
    {
      "cell_type": "code",
      "source": [
        "from seaborn import heatmap\n",
        "heatmap(data=ipl_df.corr(), annot=True)"
      ],
      "metadata": {
        "id": "idTn4S9iUIWp"
      },
      "execution_count": 17,
      "outputs": []
    },
    {
      "cell_type": "code",
      "source": [
        "from sklearn.preprocessing import LabelEncoder, OneHotEncoder\n",
        "le = LabelEncoder()\n",
        "for col in ['bat_team', 'bowl_team']:\n",
        "  ipl_df[col] = le.fit_transform(ipl_df[col])\n",
        "ipl_df.head()"
      ],
      "metadata": {
        "id": "XwbSCTr-UKMG"
      },
      "execution_count": 18,
      "outputs": []
    },
    {
      "cell_type": "code",
      "source": [
        "from sklearn.compose import ColumnTransformer\n",
        "columnTransformer = ColumnTransformer([('encoder',\n",
        "                                        OneHotEncoder(),\n",
        "                                        [0, 1])],\n",
        "                                      remainder='passthrough')"
      ],
      "metadata": {
        "id": "U7-17FDFUMUD"
      },
      "execution_count": 19,
      "outputs": []
    },
    {
      "cell_type": "code",
      "source": [
        "ipl_df = np.array(columnTransformer.fit_transform(ipl_df))"
      ],
      "metadata": {
        "id": "WziVLBITUPUx"
      },
      "execution_count": 21,
      "outputs": []
    },
    {
      "cell_type": "code",
      "source": [
        "cols = ['batting_team_Chennai Super Kings', 'batting_team_Delhi Daredevils', 'batting_team_Kings XI Punjab',\n",
        "              'batting_team_Kolkata Knight Riders', 'batting_team_Mumbai Indians', 'batting_team_Rajasthan Royals',\n",
        "              'batting_team_Royal Challengers Bangalore', 'batting_team_Sunrisers Hyderabad',\n",
        "              'bowling_team_Chennai Super Kings', 'bowling_team_Delhi Daredevils', 'bowling_team_Kings XI Punjab',\n",
        "              'bowling_team_Kolkata Knight Riders', 'bowling_team_Mumbai Indians', 'bowling_team_Rajasthan Royals',\n",
        "              'bowling_team_Royal Challengers Bangalore', 'bowling_team_Sunrisers Hyderabad', 'runs', 'wickets', 'overs',\n",
        "       'runs_last_5', 'wickets_last_5', 'total']\n",
        "df = pd.DataFrame(ipl_df, columns=cols)"
      ],
      "metadata": {
        "id": "HcAGnL7zURg3"
      },
      "execution_count": 22,
      "outputs": []
    },
    {
      "cell_type": "code",
      "source": [
        "df.head()"
      ],
      "metadata": {
        "id": "wB9zP1JtUTea"
      },
      "execution_count": 23,
      "outputs": []
    },
    {
      "cell_type": "code",
      "source": [
        "features = df.drop(['total'], axis=1)\n",
        "labels = df['total']"
      ],
      "metadata": {
        "id": "4LOiPtK9UWB-"
      },
      "execution_count": 25,
      "outputs": []
    },
    {
      "cell_type": "code",
      "source": [
        "from sklearn.model_selection import train_test_split\n",
        "train_features, test_features, train_labels, test_labels = train_test_split(features, labels, test_size=0.20, shuffle=True)\n",
        "print(f\"Training Set : {train_features.shape}\\nTesting Set : {test_features.shape}\")"
      ],
      "metadata": {
        "id": "4Wg-DF5mUZDc"
      },
      "execution_count": 26,
      "outputs": []
    },
    {
      "cell_type": "code",
      "source": [
        "models = dict()"
      ],
      "metadata": {
        "id": "BAnZKtvlUgNA"
      },
      "execution_count": 27,
      "outputs": []
    },
    {
      "cell_type": "code",
      "source": [
        "from sklearn.tree import DecisionTreeRegressor\n",
        "tree = DecisionTreeRegressor()\n",
        "# Train Model\n",
        "tree.fit(train_features, train_labels)"
      ],
      "metadata": {
        "id": "kKOTyikTUiwj"
      },
      "execution_count": 28,
      "outputs": []
    },
    {
      "cell_type": "code",
      "source": [
        "# Evaluate Model\n",
        "train_score_tree = str(tree.score(train_features, train_labels) * 100)\n",
        "test_score_tree = str(tree.score(test_features, test_labels) * 100)\n",
        "print(f'Train Score : {train_score_tree[:5]}%\\nTest Score : {test_score_tree[:5]}%')\n",
        "models[\"tree\"] = test_score_tree"
      ],
      "metadata": {
        "id": "GdbRDh_GUmFm"
      },
      "execution_count": 29,
      "outputs": []
    },
    {
      "cell_type": "code",
      "source": [
        "from sklearn.metrics import mean_absolute_error as mae, mean_squared_error as mse\n",
        "print(\"---- Decision Tree Regressor - Model Evaluation ----\")\n",
        "print(\"Mean Absolute Error (MAE): {}\".format(mae(test_labels, tree.predict(test_features))))\n",
        "print(\"Mean Squared Error (MSE): {}\".format(mse(test_labels, tree.predict(test_features))))\n",
        "print(\"Root Mean Squared Error (RMSE): {}\".format(np.sqrt(mse(test_labels, tree.predict(test_features)))))"
      ],
      "metadata": {
        "id": "Fytix5NMUohl"
      },
      "execution_count": 30,
      "outputs": []
    },
    {
      "cell_type": "code",
      "source": [
        "from sklearn.linear_model import LinearRegression\n",
        "linreg = LinearRegression()\n",
        "# Train Model\n",
        "linreg.fit(train_features, train_labels)"
      ],
      "metadata": {
        "id": "vtN6AhdtUqnt"
      },
      "execution_count": 31,
      "outputs": []
    },
    {
      "cell_type": "code",
      "source": [
        "train_score_linreg = str(linreg.score(train_features, train_labels) * 100)\n",
        "test_score_linreg = str(linreg.score(test_features, test_labels) * 100)\n",
        "print(f'Train Score : {train_score_linreg[:5]}%\\nTest Score : {test_score_linreg[:5]}%')\n",
        "models[\"linreg\"] = test_score_linreg"
      ],
      "metadata": {
        "id": "WWJ7KXK1Usxt"
      },
      "execution_count": 32,
      "outputs": []
    },
    {
      "cell_type": "code",
      "source": [
        "print(\"---- Linear Regression - Model Evaluation ----\")\n",
        "print(\"Mean Absolute Error (MAE): {}\".format(mae(test_labels, linreg.predict(test_features))))\n",
        "print(\"Mean Squared Error (MSE): {}\".format(mse(test_labels, linreg.predict(test_features))))\n",
        "print(\"Root Mean Squared Error (RMSE): {}\".format(np.sqrt(mse(test_labels, linreg.predict(test_features)))))"
      ],
      "metadata": {
        "id": "r9N0OzVaUvZu"
      },
      "execution_count": 33,
      "outputs": []
    },
    {
      "cell_type": "code",
      "source": [
        "from sklearn.ensemble import RandomForestRegressor\n",
        "forest = RandomForestRegressor()\n",
        "# Train Model\n",
        "forest.fit(train_features, train_labels)"
      ],
      "metadata": {
        "id": "WjOfCL3SUy32"
      },
      "execution_count": 34,
      "outputs": []
    },
    {
      "cell_type": "code",
      "source": [
        "train_score_forest = str(forest.score(train_features, train_labels)*100)\n",
        "test_score_forest = str(forest.score(test_features, test_labels)*100)\n",
        "print(f'Train Score : {train_score_forest[:5]}%\\nTest Score : {test_score_forest[:5]}%')\n",
        "models[\"forest\"] = test_score_forest"
      ],
      "metadata": {
        "id": "RuPCadPcVENA"
      },
      "execution_count": 35,
      "outputs": []
    },
    {
      "cell_type": "code",
      "source": [
        "print(\"---- Random Forest Regression - Model Evaluation ----\")\n",
        "print(\"Mean Absolute Error (MAE): {}\".format(mae(test_labels, forest.predict(test_features))))\n",
        "print(\"Mean Squared Error (MSE): {}\".format(mse(test_labels, forest.predict(test_features))))\n",
        "print(\"Root Mean Squared Error (RMSE): {}\".format(np.sqrt(mse(test_labels, forest.predict(test_features)))))"
      ],
      "metadata": {
        "id": "5A34puYCVHVB"
      },
      "execution_count": 37,
      "outputs": []
    },
    {
      "cell_type": "code",
      "source": [
        "from sklearn.svm import SVR\n",
        "svm = SVR()\n",
        "# Train Model\n",
        "svm.fit(train_features, train_labels)"
      ],
      "metadata": {
        "id": "BHpHzYNHVJOZ"
      },
      "execution_count": 39,
      "outputs": []
    },
    {
      "cell_type": "code",
      "source": [
        "train_score_svm = str(svm.score(train_features, train_labels)*100)\n",
        "test_score_svm = str(svm.score(test_features, test_labels)*100)\n",
        "print(f'Train Score : {train_score_svm[:5]}%\\nTest Score : {test_score_svm[:5]}%')\n",
        "models[\"svm\"] = test_score_svm"
      ],
      "metadata": {
        "id": "QjO3C0RGVLx7"
      },
      "execution_count": 40,
      "outputs": []
    },
    {
      "cell_type": "code",
      "source": [
        "print(\"---- Support Vector Regression - Model Evaluation ----\")\n",
        "print(\"Mean Absolute Error (MAE): {}\".format(mae(test_labels, svm.predict(test_features))))\n",
        "print(\"Mean Squared Error (MSE): {}\".format(mse(test_labels, svm.predict(test_features))))\n",
        "print(\"Root Mean Squared Error (RMSE): {}\".format(np.sqrt(mse(test_labels, svm.predict(test_features)))))"
      ],
      "metadata": {
        "id": "W9DRLwkNVOig"
      },
      "execution_count": 41,
      "outputs": []
    },
    {
      "cell_type": "code",
      "source": [
        "from xgboost import XGBRegressor\n",
        "xgb = XGBRegressor()\n",
        "# Train Model\n",
        "xgb.fit(train_features, train_labels)"
      ],
      "metadata": {
        "id": "lzmalj4dVQfw"
      },
      "execution_count": 42,
      "outputs": []
    },
    {
      "cell_type": "code",
      "source": [
        "train_score_xgb = str(xgb.score(train_features, train_labels)*100)\n",
        "test_score_xgb = str(xgb.score(test_features, test_labels)*100)\n",
        "print(f'Train Score : {train_score_xgb[:5]}%\\nTest Score : {test_score_xgb[:5]}%')\n",
        "models[\"xgb\"] = test_score_xgb"
      ],
      "metadata": {
        "id": "b9SlCHLaVSOu"
      },
      "execution_count": 43,
      "outputs": []
    },
    {
      "cell_type": "code",
      "source": [
        "print(\"---- XGB Regression - Model Evaluation ----\")\n",
        "print(\"Mean Absolute Error (MAE): {}\".format(mae(test_labels, xgb.predict(test_features))))\n",
        "print(\"Mean Squared Error (MSE): {}\".format(mse(test_labels, xgb.predict(test_features))))\n",
        "print(\"Root Mean Squared Error (RMSE): {}\".format(np.sqrt(mse(test_labels, xgb.predict(test_features)))))"
      ],
      "metadata": {
        "id": "-CaLbdtdVUtT"
      },
      "execution_count": 44,
      "outputs": []
    },
    {
      "cell_type": "code",
      "source": [
        "from sklearn.neighbors import KNeighborsRegressor\n",
        "knr = KNeighborsRegressor()\n",
        "# Train Model\n",
        "knr.fit(train_features, train_labels)"
      ],
      "metadata": {
        "id": "OjUDVEyvVXF6"
      },
      "execution_count": 45,
      "outputs": []
    },
    {
      "cell_type": "code",
      "source": [
        "train_score_knr = str(knr.score(train_features, train_labels)*100)\n",
        "test_score_knr = str(knr.score(test_features, test_labels)*100)\n",
        "print(f'Train Score : {train_score_knr[:5]}%\\nTest Score : {test_score_knr[:5]}%')\n",
        "models[\"knr\"] = test_score_knr"
      ],
      "metadata": {
        "id": "0LerH0jpVZDL"
      },
      "execution_count": 46,
      "outputs": []
    },
    {
      "cell_type": "code",
      "source": [
        "\n",
        "print(\"---- KNR - Model Evaluation ----\")\n",
        "print(\"Mean Absolute Error (MAE): {}\".format(mae(test_labels, knr.predict(test_features))))\n",
        "print(\"Mean Squared Error (MSE): {}\".format(mse(test_labels, knr.predict(test_features))))\n",
        "print(\"Root Mean Squared Error (RMSE): {}\".format(np.sqrt(mse(test_labels, knr.predict(test_features)))))"
      ],
      "metadata": {
        "id": "dTfSwar_VbIx"
      },
      "execution_count": 47,
      "outputs": []
    },
    {
      "cell_type": "code",
      "source": [
        "import matplotlib.pyplot as plt\n",
        "model_names = list(models.keys())\n",
        "accuracy = list(map(float, models.values()))\n",
        "# creating the bar plot\n",
        "plt.bar(model_names, accuracy)"
      ],
      "metadata": {
        "id": "VnnW-klbVdf0"
      },
      "execution_count": 48,
      "outputs": []
    },
    {
      "cell_type": "code",
      "source": [
        "def score_predict(batting_team, bowling_team, runs, wickets, overs, runs_last_5, wickets_last_5, model=forest):\n",
        "  prediction_array = []\n",
        "  # Batting Team\n",
        "  if batting_team == 'Chennai Super Kings':\n",
        "    prediction_array = prediction_array + [1,0,0,0,0,0,0,0]\n",
        "  elif batting_team == 'Delhi Daredevils':\n",
        "    prediction_array = prediction_array + [0,1,0,0,0,0,0,0]\n",
        "  elif batting_team == 'Kings XI Punjab':\n",
        "    prediction_array = prediction_array + [0,0,1,0,0,0,0,0]\n",
        "  elif batting_team == 'Kolkata Knight Riders':\n",
        "    prediction_array = prediction_array + [0,0,0,1,0,0,0,0]\n",
        "  elif batting_team == 'Mumbai Indians':\n",
        "    prediction_array = prediction_array + [0,0,0,0,1,0,0,0]\n",
        "  elif batting_team == 'Rajasthan Royals':\n",
        "    prediction_array = prediction_array + [0,0,0,0,0,1,0,0]\n",
        "  elif batting_team == 'Royal Challengers Bangalore':\n",
        "    prediction_array = prediction_array + [0,0,0,0,0,0,1,0]\n",
        "  elif batting_team == 'Sunrisers Hyderabad':\n",
        "    prediction_array = prediction_array + [0,0,0,0,0,0,0,1]\n",
        "  # Bowling Team\n",
        "  if bowling_team == 'Chennai Super Kings':\n",
        "    prediction_array = prediction_array + [1,0,0,0,0,0,0,0]\n",
        "  elif bowling_team == 'Delhi Daredevils':\n",
        "    prediction_array = prediction_array + [0,1,0,0,0,0,0,0]\n",
        "  elif bowling_team == 'Kings XI Punjab':\n",
        "    prediction_array = prediction_array + [0,0,1,0,0,0,0,0]\n",
        "  elif bowling_team == 'Kolkata Knight Riders':\n",
        "    prediction_array = prediction_array + [0,0,0,1,0,0,0,0]\n",
        "  elif bowling_team == 'Mumbai Indians':\n",
        "    prediction_array = prediction_array + [0,0,0,0,1,0,0,0]\n",
        "  elif bowling_team == 'Rajasthan Royals':\n",
        "    prediction_array = prediction_array + [0,0,0,0,0,1,0,0]\n",
        "  elif bowling_team == 'Royal Challengers Bangalore':\n",
        "    prediction_array = prediction_array + [0,0,0,0,0,0,1,0]\n",
        "  elif bowling_team == 'Sunrisers Hyderabad':\n",
        "    prediction_array = prediction_array + [0,0,0,0,0,0,0,1]\n",
        "  prediction_array = prediction_array + [runs, wickets, overs, runs_last_5, wickets_last_5]\n",
        "  prediction_array = np.array([prediction_array])\n",
        "  pred = model.predict(prediction_array)\n",
        "  return int(round(pred[0]))"
      ],
      "metadata": {
        "id": "2WljMNZnVhym"
      },
      "execution_count": 49,
      "outputs": []
    },
    {
      "cell_type": "code",
      "source": [
        "batting_team='Delhi Daredevils'\n",
        "bowling_team='Chennai Super Kings'\n",
        "score = score_predict(batting_team, bowling_team, overs=10.2, runs=68, wickets=3, runs_last_5=29, wickets_last_5=1)\n",
        "print(f'Predicted Score : {score} || Actual Score : 147')"
      ],
      "metadata": {
        "id": "FO-AQoFVVkRc"
      },
      "execution_count": 50,
      "outputs": []
    },
    {
      "cell_type": "code",
      "source": [
        "batting_team='Mumbai Indians'\n",
        "bowling_team='Kings XI Punjab'\n",
        "score = score_predict(batting_team, bowling_team, overs=12.3, runs=113, wickets=2, runs_last_5=55, wickets_last_5=0)\n",
        "print(f'Predicted Score : {score} || Actual Score : 176')"
      ],
      "metadata": {
        "id": "rIwcZb0vVmhd"
      },
      "execution_count": 51,
      "outputs": []
    },
    {
      "cell_type": "code",
      "source": [
        "batting_team=\"Kings XI Punjab\"\n",
        "bowling_team=\"Rajasthan Royals\"\n",
        "score =score_predict(batting_team, bowling_team, overs=14.0, runs=118, wickets=1, runs_last_5=45, wickets_last_5=0)\n",
        "print(f'Predicted Score : {score} || Actual Score : 185')"
      ],
      "metadata": {
        "id": "dHfuj8TFVo4g"
      },
      "execution_count": 53,
      "outputs": []
    },
    {
      "cell_type": "code",
      "source": [],
      "metadata": {
        "id": "GMnfHdOaW98O"
      },
      "execution_count": null,
      "outputs": []
    },
    {
      "cell_type": "code",
      "source": [
        "batting_team=\"Kolkata Knight Riders\"\n",
        "bowling_team=\"Chennai Super Kings\"\n",
        "score = score_predict(batting_team, bowling_team, overs=18.0, runs=150, wickets=4, runs_last_5=57, wickets_last_5=1)\n",
        "print(f'Predicted Score : {score} || Actual Score : 172')"
      ],
      "metadata": {
        "id": "jPa-YCoNVr7B"
      },
      "execution_count": 54,
      "outputs": []
    },
    {
      "cell_type": "code",
      "source": [
        "batting_team='Delhi Daredevils'\n",
        "bowling_team='Mumbai Indians'\n",
        "score = score_predict(batting_team, bowling_team, overs=18.0, runs=96, wickets=8, runs_last_5=18, wickets_last_5=4)\n",
        "print(f'Predicted Score : {score} || Actual Score : 110')"
      ],
      "metadata": {
        "id": "Fa3xdIWCVvG8"
      },
      "execution_count": 56,
      "outputs": []
    },
    {
      "cell_type": "code",
      "source": [
        "batting_team='Kings XI Punjab'\n",
        "bowling_team='Chennai Super Kings'\n",
        "score = score_predict(batting_team, bowling_team, overs=18.0, runs=129, wickets=6, runs_last_5=34, wickets_last_5=2)\n",
        "print(f'Predicted Score : {score} || Actual Score : 153')"
      ],
      "metadata": {
        "id": "fAnTQMJEVxR_"
      },
      "execution_count": 57,
      "outputs": []
    },
    {
      "cell_type": "code",
      "source": [
        "batting_team='Sunrisers Hyderabad'\n",
        "bowling_team='Royal Challengers Bangalore'\n",
        "score = score_predict(batting_team, bowling_team, overs=10.5, runs=67, wickets=3, runs_last_5=29, wickets_last_5=1)\n",
        "print(f'Predicted Score : {score} || Actual Score : 146')"
      ],
      "metadata": {
        "id": "BUWOo7KbVzs-"
      },
      "execution_count": 58,
      "outputs": []
    },
    {
      "cell_type": "code",
      "source": [
        "import pickle\n",
        "filename = \"ml_model.pkl\"\n",
        "pickle.dump(forest, open(filename, \"wb\"))"
      ],
      "metadata": {
        "id": "rdX1XE9PV1fC"
      },
      "execution_count": 59,
      "outputs": []
    },
    {
      "cell_type": "code",
      "source": [],
      "metadata": {
        "id": "d4sF8zbxWfUZ"
      },
      "execution_count": null,
      "outputs": []
    }
  ]
}