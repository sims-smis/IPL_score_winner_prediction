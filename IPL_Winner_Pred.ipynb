{
  "nbformat": 4,
  "nbformat_minor": 0,
  "metadata": {
    "colab": {
      "provenance": [],
      "authorship_tag": "ABX9TyN8EoxYKs9eIUZxQ4TAFpGL",
      "include_colab_link": true
    },
    "kernelspec": {
      "name": "python3",
      "display_name": "Python 3"
    },
    "language_info": {
      "name": "python"
    }
  },
  "cells": [
    {
      "cell_type": "markdown",
      "metadata": {
        "id": "view-in-github",
        "colab_type": "text"
      },
      "source": [
        "<a href=\"https://colab.research.google.com/github/sims-smis/IPL_score_winner_prediction/blob/main/IPL_Winner_Pred.ipynb\" target=\"_parent\"><img src=\"https://colab.research.google.com/assets/colab-badge.svg\" alt=\"Open In Colab\"/></a>"
      ]
    },
    {
      "cell_type": "code",
      "execution_count": 1,
      "metadata": {
        "id": "3rfRoAkVYQDb"
      },
      "outputs": [],
      "source": [
        "import pandas as p\n",
        "import numpy as np"
      ]
    },
    {
      "cell_type": "code",
      "source": [
        "first_dataset = pd.read_csv(\"IPL_Ball_by_Ball_2008_2022.csv\")\n",
        "second_dataset = pd.read_csv(\"IPL_Matches_2008_2022.csv\")\n",
        "\n",
        "first_dataset.head()"
      ],
      "metadata": {
        "id": "rjbMYjXiY982"
      },
      "execution_count": 2,
      "outputs": []
    },
    {
      "cell_type": "code",
      "source": [
        "second_dataset.head()"
      ],
      "metadata": {
        "id": "7AvekYYhZFD0"
      },
      "execution_count": 2,
      "outputs": []
    },
    {
      "cell_type": "code",
      "source": [
        "first_dataset.columns"
      ],
      "metadata": {
        "id": "0FURA1HFZGj4"
      },
      "execution_count": 3,
      "outputs": []
    },
    {
      "cell_type": "code",
      "source": [
        "total_runs = first_dataset.groupby(['ID','innings']).sum()['total_run'].add(1).reset_index()\n",
        "total_runs"
      ],
      "metadata": {
        "id": "aoV-YBHDZHKa"
      },
      "execution_count": 4,
      "outputs": []
    },
    {
      "cell_type": "code",
      "source": [
        "total_runs = total_runs[total_runs['innings']==1]\n",
        "match_df = second_dataset.merge(total_runs[['ID','total_run']],left_on='ID',right_on='ID')\n",
        "match_df"
      ],
      "metadata": {
        "id": "lfIsKIEGZI9y"
      },
      "execution_count": 5,
      "outputs": []
    },
    {
      "cell_type": "code",
      "source": [
        "match_df['Team1'].value_counts()"
      ],
      "metadata": {
        "id": "11ft2MbgZcbl"
      },
      "execution_count": 6,
      "outputs": []
    },
    {
      "cell_type": "code",
      "source": [
        "match_df['Team1'] = match_df['Team1'].replace('Delhi Daredevils','Delhi Capitals')\n",
        "match_df['Team2'] = match_df['Team2'].replace('Delhi Daredevils','Delhi Capitals')\n",
        "\n",
        "match_df['Team1'] = match_df['Team1'].replace('Deccan Chargers','Sunrisers Hyderabad')\n",
        "match_df['Team2'] = match_df['Team2'].replace('Deccan Chargers','Sunrisers Hyderabad')\n",
        "\n",
        "match_df['Team1'] = match_df['Team1'].replace('Kings XI Punjab','Punjab Kings')\n",
        "match_df['Team2'] = match_df['Team2'].replace('Kings XI Punjab','Punjab Kings')"
      ],
      "metadata": {
        "id": "KIkOB-Q0ZuGU"
      },
      "execution_count": 7,
      "outputs": []
    },
    {
      "cell_type": "code",
      "source": [
        "match_df['Team1'].value_counts()"
      ],
      "metadata": {
        "id": "s-G5Wx7-ZwJX"
      },
      "execution_count": 8,
      "outputs": []
    },
    {
      "cell_type": "code",
      "source": [
        "teams = ['Kolkata Knight Riders',\n",
        "         'Chennai Super Kings',\n",
        "         'Punjab Kings',\n",
        "         'Rajasthan Royals',\n",
        "         'Mumbai Indians',\n",
        "         'Delhi Capitals',\n",
        "         'Royal Challengers Bangalore',\n",
        "         'Sunrisers Hyderabad',\n",
        "         'Lucknow Super Giants',\n",
        "         'Gujarat Titans'\n",
        "         ]"
      ],
      "metadata": {
        "id": "r_jzQXRAZy_U"
      },
      "execution_count": 9,
      "outputs": []
    },
    {
      "cell_type": "code",
      "source": [
        "match_df = match_df[match_df['Team1'].isin(teams)]\n",
        "match_df = match_df[match_df['Team2'].isin(teams)]"
      ],
      "metadata": {
        "id": "PgoDwOyqaiVF"
      },
      "execution_count": 10,
      "outputs": []
    },
    {
      "cell_type": "code",
      "source": [
        "match_df['Team1'].value_counts()"
      ],
      "metadata": {
        "id": "a_Buk8ppaj3J"
      },
      "execution_count": 11,
      "outputs": []
    },
    {
      "cell_type": "code",
      "source": [
        "match_df.shape"
      ],
      "metadata": {
        "id": "5JYEyWnIam-O"
      },
      "execution_count": 12,
      "outputs": []
    },
    {
      "cell_type": "code",
      "source": [
        "match_df = match_df[['ID','City','WinningTeam','total_run', 'Team1', 'Team2']]\n",
        "match_df.shape"
      ],
      "metadata": {
        "id": "kEFIHEtTapnU"
      },
      "execution_count": 13,
      "outputs": []
    },
    {
      "cell_type": "code",
      "source": [
        "second_innings = match_df.merge(first_dataset,on='ID')\n",
        "second_innings"
      ],
      "metadata": {
        "id": "zwH8WaEVasmP"
      },
      "execution_count": 14,
      "outputs": []
    },
    {
      "cell_type": "code",
      "source": [
        "second_innings = second_innings[second_innings['innings']==2]\n",
        "second_innings.shape"
      ],
      "metadata": {
        "id": "4RE4bpQDawfb"
      },
      "execution_count": 15,
      "outputs": []
    },
    {
      "cell_type": "code",
      "source": [
        "second_innings['Team1'] = second_innings['Team1'].replace('Delhi Daredevils','Delhi Capitals')\n",
        "second_innings['Team2'] = second_innings['Team2'].replace('Delhi Daredevils','Delhi Capitals')\n",
        "\n",
        "second_innings['Team1'] = second_innings['Team1'].replace('Deccan Chargers','Sunrisers Hyderabad')\n",
        "second_innings['Team2'] = second_innings['Team2'].replace('Deccan Chargers','Sunrisers Hyderabad')\n",
        "\n",
        "second_innings['Team1'] = second_innings['Team1'].replace('Kings XI Punjab','Punjab Kings')\n",
        "second_innings['Team2'] = second_innings['Team2'].replace('Kings XI Punjab','Punjab Kings')"
      ],
      "metadata": {
        "id": "5SBQbwvMaztI"
      },
      "execution_count": 16,
      "outputs": []
    },
    {
      "cell_type": "code",
      "source": [
        "second_innings['Team1'].value_counts()"
      ],
      "metadata": {
        "id": "-Ah58PT1a5-p"
      },
      "execution_count": 17,
      "outputs": []
    },
    {
      "cell_type": "code",
      "source": [
        "second_innings.columns"
      ],
      "metadata": {
        "id": "qmZpGafua91P"
      },
      "execution_count": 18,
      "outputs": []
    },
    {
      "cell_type": "code",
      "source": [
        "second_innings.shape"
      ],
      "metadata": {
        "id": "Ge3p2wZ9a_1-"
      },
      "execution_count": 19,
      "outputs": []
    },
    {
      "cell_type": "code",
      "source": [
        "def determine_bowling_team(row):\n",
        "    if row['BattingTeam'] == row['Team1']:\n",
        "        return row['Team2']\n",
        "    else:\n",
        "        return row['Team1']\n",
        "\n",
        "# Create the new 'BowlingTeam' column\n",
        "second_innings['BowlingTeam'] = second_innings.apply(determine_bowling_team, axis=1)"
      ],
      "metadata": {
        "id": "7PXfqLVSbB5o"
      },
      "execution_count": 20,
      "outputs": []
    },
    {
      "cell_type": "code",
      "source": [
        "second_innings.tail(103)"
      ],
      "metadata": {
        "id": "LS--1FvNc-Az"
      },
      "execution_count": 21,
      "outputs": []
    },
    {
      "cell_type": "code",
      "source": [
        "second_innings['BattingTeam'] = second_innings['BattingTeam'].replace('Delhi Daredevils','Delhi Capitals')\n",
        "second_innings['BowlingTeam'] = second_innings['BowlingTeam'].replace('Delhi Daredevils','Delhi Capitals')\n",
        "\n",
        "second_innings['BattingTeam'] = second_innings['BattingTeam'].replace('Deccan Chargers','Sunrisers Hyderabad')\n",
        "second_innings['BowlingTeam'] = second_innings['BowlingTeam'].replace('Deccan Chargers','Sunrisers Hyderabad')\n",
        "\n",
        "second_innings['BattingTeam'] = second_innings['BattingTeam'].replace('Kings XI Punjab','Punjab Kings')\n",
        "second_innings['BowlingTeam'] = second_innings['BowlingTeam'].replace('Kings XI Punjab','Punjab Kings')"
      ],
      "metadata": {
        "id": "a_kgtwtgc-Bg"
      },
      "execution_count": 22,
      "outputs": []
    },
    {
      "cell_type": "code",
      "source": [
        "second_innings"
      ],
      "metadata": {
        "id": "vAjLYrcAdNTn"
      },
      "execution_count": 23,
      "outputs": []
    },
    {
      "cell_type": "code",
      "source": [
        "second_innings['BowlingTeam'].unique()"
      ],
      "metadata": {
        "id": "5RY7_tvWdd0j"
      },
      "execution_count": 24,
      "outputs": []
    },
    {
      "cell_type": "code",
      "source": [
        "second_innings['current_Score'] = second_innings.groupby('ID').cumsum()['total_run_y']\n",
        "second_innings"
      ],
      "metadata": {
        "id": "aCbldcJidfXW"
      },
      "execution_count": 25,
      "outputs": []
    },
    {
      "cell_type": "code",
      "source": [
        "second_innings['runs_left'] = second_innings['total_run_x'] - second_innings['current_Score']\n",
        "second_innings"
      ],
      "metadata": {
        "id": "F17u9ol9dhpG"
      },
      "execution_count": 26,
      "outputs": []
    },
    {
      "cell_type": "code",
      "source": [
        "second_innings['balls_left'] = 126 - (second_innings['overs']*6 +second_innings['ballnumber'])\n",
        "second_innings"
      ],
      "metadata": {
        "id": "hcOtz36WdmUd"
      },
      "execution_count": null,
      "outputs": []
    },
    {
      "cell_type": "code",
      "source": [
        "second_innings.columns"
      ],
      "metadata": {
        "id": "6fgFNJlWdrS0"
      },
      "execution_count": null,
      "outputs": []
    },
    {
      "cell_type": "code",
      "source": [
        "# Select the columns of interest\n",
        "columns_to_check = ['current_Score', 'runs_left', 'balls_left']\n",
        "\n",
        "# Check how many values in each column are negative\n",
        "negative_counts = second_innings[columns_to_check].lt(0).sum()\n",
        "\n",
        "# Display the counts\n",
        "print(\"Number of negative values in each column:\")\n",
        "print(negative_counts)"
      ],
      "metadata": {
        "id": "J1RE1gyCdrV6"
      },
      "execution_count": null,
      "outputs": []
    },
    {
      "cell_type": "code",
      "source": [
        "second_innings['player_out'] = second_innings['player_out'].fillna(\"0\")\n",
        "second_innings['player_out'] = second_innings['player_out'].apply(lambda x:x if x==\"0\" else \"1\")\n",
        "second_innings['player_out'] = second_innings['player_out'].astype('int')\n",
        "wickets = second_innings.groupby('ID').cumsum()['player_out']\n",
        "second_innings['wickets_remaining'] = 10-wickets\n",
        "second_innings"
      ],
      "metadata": {
        "id": "yPm3mpY-drZA"
      },
      "execution_count": null,
      "outputs": []
    },
    {
      "cell_type": "code",
      "source": [
        "second_innings['crr'] = round((second_innings['current_Score']*6)/(120 - second_innings['balls_left']),2)\n",
        "second_innings['rrr'] = round((second_innings['runs_left']*6)/(second_innings['balls_left']),2)\n",
        "second_innings"
      ],
      "metadata": {
        "id": "IU80wDXSdrcI"
      },
      "execution_count": null,
      "outputs": []
    },
    {
      "cell_type": "code",
      "source": [
        "def winner(team):\n",
        "    return 1 if team['BattingTeam'] == team['WinningTeam'] else 0"
      ],
      "metadata": {
        "id": "dg0nwgytdrfQ"
      },
      "execution_count": null,
      "outputs": []
    },
    {
      "cell_type": "code",
      "source": [
        "second_innings['results'] = second_innings.apply(winner,axis=1)\n",
        "second_innings"
      ],
      "metadata": {
        "id": "_S806g86d1Vx"
      },
      "execution_count": null,
      "outputs": []
    },
    {
      "cell_type": "code",
      "source": [
        "required_data = second_innings[['BattingTeam','BowlingTeam','City','runs_left','balls_left','wickets_remaining','total_run_x','crr','rrr','results']]\n",
        "required_data\n"
      ],
      "metadata": {
        "id": "VPo1ja37d3h-"
      },
      "execution_count": null,
      "outputs": []
    },
    {
      "cell_type": "code",
      "source": [
        "required_data = required_data.replace([np.inf, -np.inf], np.nan)\n",
        "required_data = required_data.dropna()\n"
      ],
      "metadata": {
        "id": "Ftd7sQoyd5It"
      },
      "execution_count": null,
      "outputs": []
    },
    {
      "cell_type": "code",
      "source": [
        "required_data = required_data[required_data['crr'] >= 0]"
      ],
      "metadata": {
        "id": "c13FBVK1d5K1"
      },
      "execution_count": null,
      "outputs": []
    },
    {
      "cell_type": "code",
      "source": [
        "columns_to_check = ['runs_left', 'balls_left', 'wickets_remaining', 'total_run_x', 'crr', 'rrr', 'results']\n",
        "\n",
        "required_data = required_data[~(required_data[columns_to_check] < 0).any(axis=1)]"
      ],
      "metadata": {
        "id": "62VNDDYCd8hn"
      },
      "execution_count": null,
      "outputs": []
    },
    {
      "cell_type": "code",
      "source": [
        "required_data.head()"
      ],
      "metadata": {
        "id": "LG6d4FWDd-Jb"
      },
      "execution_count": null,
      "outputs": []
    },
    {
      "cell_type": "code",
      "source": [
        "# Assuming your DataFrame is named 'df'\n",
        "required_data.rename(columns={'BattingTeam': 'batting_team', 'BowlingTeam': 'bowling_team', 'City': 'city'}, inplace=True)\n",
        "required_data"
      ],
      "metadata": {
        "id": "A3f0oW2ld-LW"
      },
      "execution_count": null,
      "outputs": []
    },
    {
      "cell_type": "code",
      "source": [
        "numeric = required_data[['runs_left', 'balls_left', 'wickets_remaining', 'total_run_x', 'crr', 'rrr', 'results']]\n",
        "has_infinite_values = np.any(np.isinf(numeric))\n",
        "\n",
        "# Check for negative values in the entire DataFrame\n",
        "has_negative_values = (numeric < 0).any().any()\n",
        "\n",
        "# Check for null values in the entire DataFrame\n",
        "has_null_values = numeric.isnull().any().any()\n",
        "\n",
        "# Display the results\n",
        "print(f\"Has Infinite Values: {has_infinite_values}\")\n",
        "print(f\"Has Negative Values: {has_negative_values}\")\n",
        "print(f\"Has Null Values: {has_null_values}\")"
      ],
      "metadata": {
        "id": "9uDbYmvFeCPZ"
      },
      "execution_count": null,
      "outputs": []
    },
    {
      "cell_type": "code",
      "source": [
        "required_data.to_csv(\"csv2008-22.csv\", index=False)"
      ],
      "metadata": {
        "id": "jY203UaneCRS"
      },
      "execution_count": null,
      "outputs": []
    },
    {
      "cell_type": "code",
      "source": [
        "from sklearn.model_selection import train_test_split\n",
        "\n",
        "x = required_data.iloc[:, :-1]\n",
        "y = required_data.iloc[:,-1]\n",
        "x_train,x_test,y_train,y_test = train_test_split(x,y,test_size=0.25,random_state=100)\n",
        "x_train.head()"
      ],
      "metadata": {
        "id": "yL4_KsureG3z"
      },
      "execution_count": null,
      "outputs": []
    },
    {
      "cell_type": "code",
      "source": [
        "from sklearn.compose import ColumnTransformer\n",
        "from sklearn.preprocessing import OneHotEncoder\n",
        "trf = ColumnTransformer([\n",
        "    ('trf',OneHotEncoder(sparse=False,drop='first'),['batting_team','bowling_team','city'])\n",
        "],\n",
        "remainder='passthrough')\n",
        "from sklearn.linear_model import LogisticRegression\n",
        "from sklearn.pipeline import Pipeline\n",
        "\n",
        "pipe = Pipeline([\n",
        "    ('step1',trf),\n",
        "    ('step2',LogisticRegression(solver='liblinear'))\n",
        "])\n",
        "\n",
        "\n",
        "pipe.fit(x_train,y_train)\n",
        "y_pred = pipe.predict(x_test)\n",
        "from sklearn.metrics import accuracy_score\n",
        "accuracy_score(y_test,y_pred)"
      ],
      "metadata": {
        "id": "JoPmJGLkeG5J"
      },
      "execution_count": null,
      "outputs": []
    },
    {
      "cell_type": "code",
      "source": [
        "pipe.predict_proba(x_test)[0]\n",
        "import pickle\n",
        "pickle.dump(pipe,open('pipe.pkl','wb'))"
      ],
      "metadata": {
        "id": "lik8niK7eG9l"
      },
      "execution_count": null,
      "outputs": []
    },
    {
      "cell_type": "code",
      "source": [
        "from sklearn.ensemble import RandomForestClassifier\n",
        "\n",
        "ra_pipe = Pipeline([\n",
        "    ('step1',trf),\n",
        "    ('step2',RandomForestClassifier())\n",
        "])\n",
        "\n",
        "ra_pipe.fit(x_train,y_train)\n",
        "\n",
        "ra_y_pred = ra_pipe.predict(x_test)\n",
        "\n",
        "accuracy_score(y_test,ra_y_pred)"
      ],
      "metadata": {
        "id": "qH36sPxBeHAt"
      },
      "execution_count": null,
      "outputs": []
    },
    {
      "cell_type": "code",
      "source": [
        "import pickle\n",
        "pickle.dump(ra_pipe,open('ra_pipe.pkl','wb'))\n",
        "data = pd.read_csv('csv2023.csv')\n",
        "data.rename(columns={'max_total_run_x': 'total_run_x'}, inplace=True)\n",
        "data.head(2)\n",
        "\n",
        "df = pd.concat([required_data, data], ignore_index=True)\n",
        "df"
      ],
      "metadata": {
        "id": "pL7ZKaFMeHDj"
      },
      "execution_count": null,
      "outputs": []
    },
    {
      "cell_type": "code",
      "source": [
        "df.to_csv('dataset.csv')"
      ],
      "metadata": {
        "id": "45hxawURea7O"
      },
      "execution_count": null,
      "outputs": []
    },
    {
      "cell_type": "code",
      "source": [
        "x = df.iloc[:, :-1]\n",
        "y = df.iloc[:,-1]\n",
        "x_train,x_test,y_train,y_test = train_test_split(x,y,test_size=0.25,random_state=100)\n",
        "x_train.head()"
      ],
      "metadata": {
        "id": "tfmui05heccF"
      },
      "execution_count": null,
      "outputs": []
    },
    {
      "cell_type": "code",
      "source": [
        "from sklearn.ensemble import RandomForestClassifier\n",
        "\n",
        "ra_pipe = Pipeline([\n",
        "    ('step1',trf),\n",
        "    ('step2',RandomForestClassifier())\n",
        "])\n",
        "\n",
        "ra_pipe.fit(x_train,y_train)\n",
        "\n",
        "ra_y_pred = ra_pipe.predict(x_test)\n",
        "\n",
        "accuracy_score(y_test,ra_y_pred)"
      ],
      "metadata": {
        "id": "0cC5xeqPeeWO"
      },
      "execution_count": null,
      "outputs": []
    },
    {
      "cell_type": "code",
      "source": [
        "import pickle\n",
        "pickle.dump(ra_pipe,open('ra_pipe.pkl','wb'))"
      ],
      "metadata": {
        "id": "QQYK6J8meftN"
      },
      "execution_count": null,
      "outputs": []
    }
  ]
}